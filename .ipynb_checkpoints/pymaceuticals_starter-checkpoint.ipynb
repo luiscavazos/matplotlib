{
 "cells": [
  {
   "cell_type": "markdown",
   "metadata": {},
   "source": [
    "## Observations and Insights "
   ]
  },
  {
   "cell_type": "markdown",
   "metadata": {},
   "source": []
  },
  {
   "cell_type": "code",
   "execution_count": 1,
   "metadata": {},
   "outputs": [
    {
     "data": {
      "text/html": [
       "<div>\n",
       "<style scoped>\n",
       "    .dataframe tbody tr th:only-of-type {\n",
       "        vertical-align: middle;\n",
       "    }\n",
       "\n",
       "    .dataframe tbody tr th {\n",
       "        vertical-align: top;\n",
       "    }\n",
       "\n",
       "    .dataframe thead th {\n",
       "        text-align: right;\n",
       "    }\n",
       "</style>\n",
       "<table border=\"1\" class=\"dataframe\">\n",
       "  <thead>\n",
       "    <tr style=\"text-align: right;\">\n",
       "      <th></th>\n",
       "      <th>Mouse ID</th>\n",
       "      <th>Drug Regimen</th>\n",
       "      <th>Sex</th>\n",
       "      <th>Age_months</th>\n",
       "      <th>Weight (g)</th>\n",
       "      <th>Timepoint</th>\n",
       "      <th>Tumor Volume (mm3)</th>\n",
       "      <th>Metastatic Sites</th>\n",
       "    </tr>\n",
       "  </thead>\n",
       "  <tbody>\n",
       "    <tr>\n",
       "      <th>0</th>\n",
       "      <td>k403</td>\n",
       "      <td>Ramicane</td>\n",
       "      <td>Male</td>\n",
       "      <td>21</td>\n",
       "      <td>16</td>\n",
       "      <td>0</td>\n",
       "      <td>45.000000</td>\n",
       "      <td>0</td>\n",
       "    </tr>\n",
       "    <tr>\n",
       "      <th>1</th>\n",
       "      <td>k403</td>\n",
       "      <td>Ramicane</td>\n",
       "      <td>Male</td>\n",
       "      <td>21</td>\n",
       "      <td>16</td>\n",
       "      <td>5</td>\n",
       "      <td>38.825898</td>\n",
       "      <td>0</td>\n",
       "    </tr>\n",
       "    <tr>\n",
       "      <th>2</th>\n",
       "      <td>k403</td>\n",
       "      <td>Ramicane</td>\n",
       "      <td>Male</td>\n",
       "      <td>21</td>\n",
       "      <td>16</td>\n",
       "      <td>10</td>\n",
       "      <td>35.014271</td>\n",
       "      <td>1</td>\n",
       "    </tr>\n",
       "    <tr>\n",
       "      <th>3</th>\n",
       "      <td>k403</td>\n",
       "      <td>Ramicane</td>\n",
       "      <td>Male</td>\n",
       "      <td>21</td>\n",
       "      <td>16</td>\n",
       "      <td>15</td>\n",
       "      <td>34.223992</td>\n",
       "      <td>1</td>\n",
       "    </tr>\n",
       "    <tr>\n",
       "      <th>4</th>\n",
       "      <td>k403</td>\n",
       "      <td>Ramicane</td>\n",
       "      <td>Male</td>\n",
       "      <td>21</td>\n",
       "      <td>16</td>\n",
       "      <td>20</td>\n",
       "      <td>32.997729</td>\n",
       "      <td>1</td>\n",
       "    </tr>\n",
       "  </tbody>\n",
       "</table>\n",
       "</div>"
      ],
      "text/plain": [
       "  Mouse ID Drug Regimen   Sex  Age_months  Weight (g)  Timepoint  \\\n",
       "0     k403     Ramicane  Male          21          16          0   \n",
       "1     k403     Ramicane  Male          21          16          5   \n",
       "2     k403     Ramicane  Male          21          16         10   \n",
       "3     k403     Ramicane  Male          21          16         15   \n",
       "4     k403     Ramicane  Male          21          16         20   \n",
       "\n",
       "   Tumor Volume (mm3)  Metastatic Sites  \n",
       "0           45.000000                 0  \n",
       "1           38.825898                 0  \n",
       "2           35.014271                 1  \n",
       "3           34.223992                 1  \n",
       "4           32.997729                 1  "
      ]
     },
     "execution_count": 1,
     "metadata": {},
     "output_type": "execute_result"
    }
   ],
   "source": [
    "# Dependencies and Setup\n",
    "import matplotlib.pyplot as plt\n",
    "import pandas as pd\n",
    "import scipy.stats as st\n",
    "import numpy as np\n",
    "%matplotlib inline\n",
    "\n",
    "# Study data files\n",
    "mouse_metadata_path = \"data/Mouse_metadata.csv\"\n",
    "study_results_path = \"data/Study_results.csv\"\n",
    "\n",
    "# Read the mouse data and the study results\n",
    "mouse_metadata = pd.read_csv(mouse_metadata_path)\n",
    "study_results = pd.read_csv(study_results_path)\n",
    "\n",
    "# Combine the data into a single dataset\n",
    "merged_df = pd.merge(mouse_metadata, study_results, on=\"Mouse ID\")\n",
    "# Display the data table for preview\n",
    "merged_df.head()"
   ]
  },
  {
   "cell_type": "code",
   "execution_count": 2,
   "metadata": {},
   "outputs": [
    {
     "data": {
      "text/plain": [
       "249"
      ]
     },
     "execution_count": 2,
     "metadata": {},
     "output_type": "execute_result"
    }
   ],
   "source": [
    "# Checking the number of mice\n",
    "merged_df[\"Mouse ID\"].nunique()"
   ]
  },
  {
   "cell_type": "code",
   "execution_count": 3,
   "metadata": {},
   "outputs": [
    {
     "data": {
      "text/plain": [
       "g989    13\n",
       "m546    10\n",
       "c264    10\n",
       "t565    10\n",
       "e213    10\n",
       "        ..\n",
       "x226     1\n",
       "d133     1\n",
       "v199     1\n",
       "t573     1\n",
       "l872     1\n",
       "Name: Mouse ID, Length: 249, dtype: int64"
      ]
     },
     "execution_count": 3,
     "metadata": {},
     "output_type": "execute_result"
    }
   ],
   "source": [
    "# Getting the duplicate mice by ID number that shows up for Mouse ID and Timepoint. ?????\n",
    "merged_df[\"Mouse ID\"].value_counts()\n"
   ]
  },
  {
   "cell_type": "code",
   "execution_count": 4,
   "metadata": {},
   "outputs": [
    {
     "data": {
      "text/html": [
       "<div>\n",
       "<style scoped>\n",
       "    .dataframe tbody tr th:only-of-type {\n",
       "        vertical-align: middle;\n",
       "    }\n",
       "\n",
       "    .dataframe tbody tr th {\n",
       "        vertical-align: top;\n",
       "    }\n",
       "\n",
       "    .dataframe thead th {\n",
       "        text-align: right;\n",
       "    }\n",
       "</style>\n",
       "<table border=\"1\" class=\"dataframe\">\n",
       "  <thead>\n",
       "    <tr style=\"text-align: right;\">\n",
       "      <th></th>\n",
       "      <th>Mouse ID</th>\n",
       "      <th>Drug Regimen</th>\n",
       "      <th>Sex</th>\n",
       "      <th>Age_months</th>\n",
       "      <th>Weight (g)</th>\n",
       "      <th>Timepoint</th>\n",
       "      <th>Tumor Volume (mm3)</th>\n",
       "      <th>Metastatic Sites</th>\n",
       "    </tr>\n",
       "  </thead>\n",
       "  <tbody>\n",
       "    <tr>\n",
       "      <th>909</th>\n",
       "      <td>g989</td>\n",
       "      <td>Propriva</td>\n",
       "      <td>Female</td>\n",
       "      <td>21</td>\n",
       "      <td>26</td>\n",
       "      <td>0</td>\n",
       "      <td>45.0</td>\n",
       "      <td>0</td>\n",
       "    </tr>\n",
       "  </tbody>\n",
       "</table>\n",
       "</div>"
      ],
      "text/plain": [
       "    Mouse ID Drug Regimen     Sex  Age_months  Weight (g)  Timepoint  \\\n",
       "909     g989     Propriva  Female          21          26          0   \n",
       "\n",
       "     Tumor Volume (mm3)  Metastatic Sites  \n",
       "909                45.0                 0  "
      ]
     },
     "execution_count": 4,
     "metadata": {},
     "output_type": "execute_result"
    }
   ],
   "source": [
    "# Optional: Get all the data for the duplicate mouse ID. \n",
    "show_duplicated = merged_df[merged_df.duplicated()]\n",
    "show_duplicated"
   ]
  },
  {
   "cell_type": "code",
   "execution_count": 5,
   "metadata": {},
   "outputs": [
    {
     "data": {
      "text/plain": [
       "0     249\n",
       "5     238\n",
       "10    223\n",
       "15    207\n",
       "20    195\n",
       "25    183\n",
       "30    171\n",
       "35    154\n",
       "40    142\n",
       "45    130\n",
       "Name: Timepoint, dtype: int64"
      ]
     },
     "execution_count": 5,
     "metadata": {},
     "output_type": "execute_result"
    }
   ],
   "source": [
    "# Create a clean DataFrame by dropping the duplicate mouse by its ID. ????\n",
    "clean_df =merged_df.drop_duplicates()\n",
    "clean_df[\"Timepoint\"].value_counts()"
   ]
  },
  {
   "cell_type": "code",
   "execution_count": 6,
   "metadata": {},
   "outputs": [
    {
     "data": {
      "text/plain": [
       "249"
      ]
     },
     "execution_count": 6,
     "metadata": {},
     "output_type": "execute_result"
    }
   ],
   "source": [
    "# Checking the number of mice in the clean DataFrame.\n",
    "clean_df[\"Mouse ID\"].nunique()"
   ]
  },
  {
   "cell_type": "markdown",
   "metadata": {},
   "source": [
    "## Summary Statistics"
   ]
  },
  {
   "cell_type": "code",
   "execution_count": 35,
   "metadata": {
    "scrolled": true
   },
   "outputs": [
    {
     "name": "stdout",
     "output_type": "stream",
     "text": [
      "The mean of the tumor volume on the mice is 50.45126032511628\n",
      "The median of the tumor volume on the mice is 48.95469674\n",
      "The variance of the tumor volume on the mice is 79.1003760467164\n",
      "The standard deviation of the tumor volume on the mice is 8.89383921862299\n",
      "The SEM of the tumor volume on the mice is 0.20452363820916164\n"
     ]
    },
    {
     "data": {
      "text/html": [
       "<div>\n",
       "<style scoped>\n",
       "    .dataframe tbody tr th:only-of-type {\n",
       "        vertical-align: middle;\n",
       "    }\n",
       "\n",
       "    .dataframe tbody tr th {\n",
       "        vertical-align: top;\n",
       "    }\n",
       "\n",
       "    .dataframe thead th {\n",
       "        text-align: right;\n",
       "    }\n",
       "</style>\n",
       "<table border=\"1\" class=\"dataframe\">\n",
       "  <thead>\n",
       "    <tr style=\"text-align: right;\">\n",
       "      <th></th>\n",
       "      <th>Tumor Mean</th>\n",
       "      <th>Tumor Median</th>\n",
       "      <th>Tumor Variance</th>\n",
       "      <th>Tumor Std Dev</th>\n",
       "      <th>Tumor SEM</th>\n",
       "    </tr>\n",
       "  </thead>\n",
       "  <tbody>\n",
       "    <tr>\n",
       "      <th>0</th>\n",
       "      <td>50.45126</td>\n",
       "      <td>48.954697</td>\n",
       "      <td>79.100376</td>\n",
       "      <td>8.893839</td>\n",
       "      <td>0.204524</td>\n",
       "    </tr>\n",
       "  </tbody>\n",
       "</table>\n",
       "</div>"
      ],
      "text/plain": [
       "   Tumor Mean  Tumor Median  Tumor Variance  Tumor Std Dev  Tumor SEM\n",
       "0    50.45126     48.954697       79.100376       8.893839   0.204524"
      ]
     },
     "execution_count": 35,
     "metadata": {},
     "output_type": "execute_result"
    }
   ],
   "source": [
    "# Generate a summary statistics table of mean, median, variance, standard deviation, and SEM of the tumor volume for \n",
    "# each regimen\n",
    "#?????????????\n",
    "# This method is the most straighforward, creating multiple series and putting them all together at the end.\n",
    "\n",
    "mean_tumor = np.mean(clean_df[\"Tumor Volume (mm3)\"])\n",
    "print(f\"The mean of the tumor volume on the mice is {mean_tumor}\")\n",
    "\n",
    "median_tumor = np.median(clean_df[\"Tumor Volume (mm3)\"])\n",
    "print(f\"The median of the tumor volume on the mice is {median_tumor}\")\n",
    "\n",
    "var_tumor = np.var(clean_df[\"Tumor Volume (mm3)\"])\n",
    "print(f\"The variance of the tumor volume on the mice is {var_tumor}\")\n",
    "\n",
    "std_tumor = np.std(clean_df[\"Tumor Volume (mm3)\"])\n",
    "print(f\"The standard deviation of the tumor volume on the mice is {std_tumor}\")\n",
    "\n",
    "mode_sem = st.sem(clean_df[\"Tumor Volume (mm3)\"])\n",
    "print(f\"The SEM of the tumor volume on the mice is {mode_sem}\")\n",
    "\n",
    "tumor_df = pd.DataFrame([{\"Tumor Mean\" :mean_tumor, \"Tumor Median\" :median_tumor ,  \n",
    "                         \"Tumor Variance\" :var_tumor, \"Tumor Std Dev\" :std_tumor, \"Tumor SEM\" :mode_sem}]) \n",
    "tumor_df\n"
   ]
  },
  {
   "cell_type": "code",
   "execution_count": 123,
   "metadata": {},
   "outputs": [
    {
     "data": {
      "text/html": [
       "<div>\n",
       "<style scoped>\n",
       "    .dataframe tbody tr th:only-of-type {\n",
       "        vertical-align: middle;\n",
       "    }\n",
       "\n",
       "    .dataframe tbody tr th {\n",
       "        vertical-align: top;\n",
       "    }\n",
       "\n",
       "    .dataframe thead th {\n",
       "        text-align: right;\n",
       "    }\n",
       "</style>\n",
       "<table border=\"1\" class=\"dataframe\">\n",
       "  <thead>\n",
       "    <tr style=\"text-align: right;\">\n",
       "      <th></th>\n",
       "      <th>Tumor Mean</th>\n",
       "      <th>Tumor Median</th>\n",
       "      <th>Tumor Variance</th>\n",
       "      <th>Tumor Std Dev</th>\n",
       "      <th>Tumor SEM</th>\n",
       "    </tr>\n",
       "    <tr>\n",
       "      <th>Drug Regimen</th>\n",
       "      <th></th>\n",
       "      <th></th>\n",
       "      <th></th>\n",
       "      <th></th>\n",
       "      <th></th>\n",
       "    </tr>\n",
       "  </thead>\n",
       "  <tbody>\n",
       "    <tr>\n",
       "      <th>Capomulin</th>\n",
       "      <td>40.675741</td>\n",
       "      <td>41.557809</td>\n",
       "      <td>24.947764</td>\n",
       "      <td>4.994774</td>\n",
       "      <td>0.329346</td>\n",
       "    </tr>\n",
       "    <tr>\n",
       "      <th>Ceftamin</th>\n",
       "      <td>52.591172</td>\n",
       "      <td>51.776157</td>\n",
       "      <td>39.290177</td>\n",
       "      <td>6.268188</td>\n",
       "      <td>0.469821</td>\n",
       "    </tr>\n",
       "    <tr>\n",
       "      <th>Infubinol</th>\n",
       "      <td>52.884795</td>\n",
       "      <td>51.820584</td>\n",
       "      <td>43.128684</td>\n",
       "      <td>6.567243</td>\n",
       "      <td>0.492236</td>\n",
       "    </tr>\n",
       "    <tr>\n",
       "      <th>Ketapril</th>\n",
       "      <td>55.235638</td>\n",
       "      <td>53.698743</td>\n",
       "      <td>68.553577</td>\n",
       "      <td>8.279709</td>\n",
       "      <td>0.603860</td>\n",
       "    </tr>\n",
       "    <tr>\n",
       "      <th>Naftisol</th>\n",
       "      <td>54.331565</td>\n",
       "      <td>52.509285</td>\n",
       "      <td>66.173479</td>\n",
       "      <td>8.134708</td>\n",
       "      <td>0.596466</td>\n",
       "    </tr>\n",
       "    <tr>\n",
       "      <th>Placebo</th>\n",
       "      <td>54.033581</td>\n",
       "      <td>52.288934</td>\n",
       "      <td>61.168083</td>\n",
       "      <td>7.821003</td>\n",
       "      <td>0.581331</td>\n",
       "    </tr>\n",
       "    <tr>\n",
       "      <th>Propriva</th>\n",
       "      <td>52.368318</td>\n",
       "      <td>50.909965</td>\n",
       "      <td>42.278090</td>\n",
       "      <td>6.502160</td>\n",
       "      <td>0.514041</td>\n",
       "    </tr>\n",
       "    <tr>\n",
       "      <th>Ramicane</th>\n",
       "      <td>40.216745</td>\n",
       "      <td>40.673236</td>\n",
       "      <td>23.486704</td>\n",
       "      <td>4.846308</td>\n",
       "      <td>0.320955</td>\n",
       "    </tr>\n",
       "    <tr>\n",
       "      <th>Stelasyn</th>\n",
       "      <td>54.233149</td>\n",
       "      <td>52.431737</td>\n",
       "      <td>59.450562</td>\n",
       "      <td>7.710419</td>\n",
       "      <td>0.573111</td>\n",
       "    </tr>\n",
       "    <tr>\n",
       "      <th>Zoniferol</th>\n",
       "      <td>53.236507</td>\n",
       "      <td>51.818479</td>\n",
       "      <td>48.533355</td>\n",
       "      <td>6.966589</td>\n",
       "      <td>0.516398</td>\n",
       "    </tr>\n",
       "  </tbody>\n",
       "</table>\n",
       "</div>"
      ],
      "text/plain": [
       "              Tumor Mean  Tumor Median  Tumor Variance  Tumor Std Dev  \\\n",
       "Drug Regimen                                                            \n",
       "Capomulin      40.675741     41.557809       24.947764       4.994774   \n",
       "Ceftamin       52.591172     51.776157       39.290177       6.268188   \n",
       "Infubinol      52.884795     51.820584       43.128684       6.567243   \n",
       "Ketapril       55.235638     53.698743       68.553577       8.279709   \n",
       "Naftisol       54.331565     52.509285       66.173479       8.134708   \n",
       "Placebo        54.033581     52.288934       61.168083       7.821003   \n",
       "Propriva       52.368318     50.909965       42.278090       6.502160   \n",
       "Ramicane       40.216745     40.673236       23.486704       4.846308   \n",
       "Stelasyn       54.233149     52.431737       59.450562       7.710419   \n",
       "Zoniferol      53.236507     51.818479       48.533355       6.966589   \n",
       "\n",
       "              Tumor SEM  \n",
       "Drug Regimen             \n",
       "Capomulin      0.329346  \n",
       "Ceftamin       0.469821  \n",
       "Infubinol      0.492236  \n",
       "Ketapril       0.603860  \n",
       "Naftisol       0.596466  \n",
       "Placebo        0.581331  \n",
       "Propriva       0.514041  \n",
       "Ramicane       0.320955  \n",
       "Stelasyn       0.573111  \n",
       "Zoniferol      0.516398  "
      ]
     },
     "execution_count": 123,
     "metadata": {},
     "output_type": "execute_result"
    }
   ],
   "source": [
    "# Generate a summary statistics table of mean, median, variance, standard deviation, and SEM of the tumor volume for \n",
    "# each regimen\n",
    "\n",
    "# This method produces everything in a single groupby function\n",
    "mean_regimen= clean_df.groupby(\"Drug Regimen\")[\"Tumor Volume (mm3)\"].mean()\n",
    "\n",
    "\n",
    "median_regimen = clean_df.groupby(\"Drug Regimen\")[\"Tumor Volume (mm3)\"].median()\n",
    "\n",
    "\n",
    "std_regimen = clean_df.groupby(\"Drug Regimen\")[\"Tumor Volume (mm3)\"].std()\n",
    "\n",
    "\n",
    "var_regimen = clean_df.groupby(\"Drug Regimen\")[\"Tumor Volume (mm3)\"].var()\n",
    "\n",
    "\n",
    "sem_regimen = clean_df.groupby(\"Drug Regimen\")[\"Tumor Volume (mm3)\"].sem()\n",
    "\n",
    "\n",
    "\n",
    "\n",
    "regimen_df_final = pd.DataFrame({\"Tumor Mean\" :mean_regimen, \"Tumor Median\" :median_regimen ,  \n",
    "                         \"Tumor Variance\" :var_regimen, \"Tumor Std Dev\" :std_regimen, \"Tumor SEM\" :sem_regimen}) \n",
    "regimen_df_final"
   ]
  },
  {
   "cell_type": "markdown",
   "metadata": {},
   "source": [
    "## Bar and Pie Charts"
   ]
  },
  {
   "cell_type": "code",
   "execution_count": 16,
   "metadata": {},
   "outputs": [
    {
     "data": {
      "text/plain": [
       "<matplotlib.axes._subplots.AxesSubplot at 0x1fe4e914b08>"
      ]
     },
     "execution_count": 16,
     "metadata": {},
     "output_type": "execute_result"
    },
    {
     "data": {
      "image/png": "[encoded data removed]",
      "text/plain": [
       "<Figure size 432x288 with 1 Axes>"
      ]
     },
     "metadata": {
      "needs_background": "light"
     },
     "output_type": "display_data"
    }
   ],
   "source": [
    "# Generate a bar plot showing the total number of mice for each treatment throughout the course of the study using pandas. \n",
    "panda_reg = clean_df.groupby([\"Drug Regimen\"]).count()[\"Mouse ID\"]\n",
    "panda_bar = panda_reg.plot(kind=\"bar\", color=\"g\", title=\"Mice used in each Treatment\")\n",
    "panda_bar.set_xlabel(\"Treatments\")\n",
    "panda_bar.set_ylabel(\"Number of mice used\")\n",
    "panda_bar\n"
   ]
  },
  {
   "cell_type": "code",
   "execution_count": 22,
   "metadata": {
    "scrolled": true
   },
   "outputs": [
    {
     "data": {
      "text/plain": [
       "Text(0, 0.5, 'Number of mice used')"
      ]
     },
     "execution_count": 22,
     "metadata": {},
     "output_type": "execute_result"
    },
    {
     "data": {
      "image/png": "[encoded data removed]",
      "text/plain": [
       "<Figure size 432x288 with 1 Axes>"
      ]
     },
     "metadata": {
      "needs_background": "light"
     },
     "output_type": "display_data"
    }
   ],
   "source": [
    "# Generate a bar plot showing the total number of mice for each treatment throughout the course of the study using pyplot.\n",
    "\n",
    "treatment = clean_df[\"Drug Regimen\"].unique()\n",
    "mice_count = clean_df.groupby(\"Drug Regimen\")[\"Mouse ID\"].count()\n",
    "plt.bar(treatment, mice_count, color=\"mediumseagreen\", align=\"center\")\n",
    "plt.xticks(rotation='vertical')\n",
    "plt.title(\"Mice used in each Treatment\")\n",
    "plt.xlabel(\"Treatments\")\n",
    "plt.ylabel(\"Number of mice used\")\n"
   ]
  },
  {
   "cell_type": "code",
   "execution_count": 23,
   "metadata": {},
   "outputs": [
    {
     "data": {
      "text/plain": [
       "array([<matplotlib.axes._subplots.AxesSubplot object at 0x000001FE4EB1B8C8>],\n",
       "      dtype=object)"
      ]
     },
     "execution_count": 23,
     "metadata": {},
     "output_type": "execute_result"
    },
    {
     "data": {
      "image/png": "[encoded data removed]",
      "text/plain": [
       "<Figure size 432x288 with 1 Axes>"
      ]
     },
     "metadata": {},
     "output_type": "display_data"
    }
   ],
   "source": [
    "# Generate a pie plot showing the distribution of female versus male mice using pandas\n",
    "sex = clean_df[\"Sex\"].unique()\n",
    "mice_sex = clean_df.groupby(\"Sex\")[\"Mouse ID\"].nunique()\n",
    "#mice_gender = pd.DataFrame(mice_sex)\n",
    "#mice_gender = mice_gender.plot.pie(subplots=True, colors= [\"r\", \"b\"], startangle=140, shadow = False, autopct=\"%1.1f%%\")\n",
    "mice_sex = mice_sex.plot.pie(subplots=True, colors= [\"r\", \"b\"], startangle=140, shadow = False, autopct=\"%1.1f%%\", title=\"Mice distribution by sex\")\n",
    "mice_sex"
   ]
  },
  {
   "cell_type": "code",
   "execution_count": 24,
   "metadata": {},
   "outputs": [
    {
     "data": {
      "text/plain": [
       "Text(0.5, 1.0, 'Mice distribution by sex')"
      ]
     },
     "execution_count": 24,
     "metadata": {},
     "output_type": "execute_result"
    },
    {
     "data": {
      "image/png": "[encoded data removed]",
      "text/plain": [
       "<Figure size 432x288 with 1 Axes>"
      ]
     },
     "metadata": {},
     "output_type": "display_data"
    }
   ],
   "source": [
    "# Generate a pie plot showing the distribution of female versus male mice using pyplot\n",
    "mice_plt_sex = clean_df.groupby(\"Sex\")[\"Mouse ID\"].nunique()\n",
    "colors = [\"cornflowerblue\", \"salmon\"]\n",
    "plt.pie(mice_plt_sex, labels=sex, colors=colors, autopct=\"%1.1f%%\", \n",
    "        shadow=False, startangle=140)\n",
    "plt.title(\"Mice distribution by sex\")\n",
    "                        \n"
   ]
  },
  {
   "cell_type": "markdown",
   "metadata": {},
   "source": [
    "## Quartiles, Outliers and Boxplots"
   ]
  },
  {
   "cell_type": "code",
   "execution_count": 78,
   "metadata": {},
   "outputs": [
    {
     "data": {
      "text/html": [
       "<div>\n",
       "<style scoped>\n",
       "    .dataframe tbody tr th:only-of-type {\n",
       "        vertical-align: middle;\n",
       "    }\n",
       "\n",
       "    .dataframe tbody tr th {\n",
       "        vertical-align: top;\n",
       "    }\n",
       "\n",
       "    .dataframe thead th {\n",
       "        text-align: right;\n",
       "    }\n",
       "</style>\n",
       "<table border=\"1\" class=\"dataframe\">\n",
       "  <thead>\n",
       "    <tr style=\"text-align: right;\">\n",
       "      <th></th>\n",
       "      <th>Mouse ID</th>\n",
       "      <th>Timepoint</th>\n",
       "      <th>Drug Regimen</th>\n",
       "      <th>Sex</th>\n",
       "      <th>Age_months</th>\n",
       "      <th>Weight (g)</th>\n",
       "      <th>Tumor Volume (mm3)</th>\n",
       "      <th>Metastatic Sites</th>\n",
       "    </tr>\n",
       "  </thead>\n",
       "  <tbody>\n",
       "    <tr>\n",
       "      <th>0</th>\n",
       "      <td>b128</td>\n",
       "      <td>45</td>\n",
       "      <td>Capomulin</td>\n",
       "      <td>Female</td>\n",
       "      <td>9</td>\n",
       "      <td>22</td>\n",
       "      <td>38.982878</td>\n",
       "      <td>2</td>\n",
       "    </tr>\n",
       "    <tr>\n",
       "      <th>1</th>\n",
       "      <td>b742</td>\n",
       "      <td>45</td>\n",
       "      <td>Capomulin</td>\n",
       "      <td>Male</td>\n",
       "      <td>7</td>\n",
       "      <td>21</td>\n",
       "      <td>38.939633</td>\n",
       "      <td>0</td>\n",
       "    </tr>\n",
       "    <tr>\n",
       "      <th>2</th>\n",
       "      <td>f966</td>\n",
       "      <td>20</td>\n",
       "      <td>Capomulin</td>\n",
       "      <td>Male</td>\n",
       "      <td>16</td>\n",
       "      <td>17</td>\n",
       "      <td>30.485985</td>\n",
       "      <td>0</td>\n",
       "    </tr>\n",
       "    <tr>\n",
       "      <th>3</th>\n",
       "      <td>g288</td>\n",
       "      <td>45</td>\n",
       "      <td>Capomulin</td>\n",
       "      <td>Male</td>\n",
       "      <td>3</td>\n",
       "      <td>19</td>\n",
       "      <td>37.074024</td>\n",
       "      <td>1</td>\n",
       "    </tr>\n",
       "    <tr>\n",
       "      <th>4</th>\n",
       "      <td>g316</td>\n",
       "      <td>45</td>\n",
       "      <td>Capomulin</td>\n",
       "      <td>Female</td>\n",
       "      <td>22</td>\n",
       "      <td>22</td>\n",
       "      <td>40.159220</td>\n",
       "      <td>2</td>\n",
       "    </tr>\n",
       "  </tbody>\n",
       "</table>\n",
       "</div>"
      ],
      "text/plain": [
       "  Mouse ID  Timepoint Drug Regimen     Sex  Age_months  Weight (g)  \\\n",
       "0     b128         45    Capomulin  Female           9          22   \n",
       "1     b742         45    Capomulin    Male           7          21   \n",
       "2     f966         20    Capomulin    Male          16          17   \n",
       "3     g288         45    Capomulin    Male           3          19   \n",
       "4     g316         45    Capomulin  Female          22          22   \n",
       "\n",
       "   Tumor Volume (mm3)  Metastatic Sites  \n",
       "0           38.982878                 2  \n",
       "1           38.939633                 0  \n",
       "2           30.485985                 0  \n",
       "3           37.074024                 1  \n",
       "4           40.159220                 2  "
      ]
     },
     "execution_count": 78,
     "metadata": {},
     "output_type": "execute_result"
    }
   ],
   "source": [
    "# Calculate the final tumor volume of each mouse across four of the treatment regimens:  \n",
    "# Capomulin, Ramicane, Infubinol, and Ceftamin\n",
    "\n",
    "cap_reg = clean_df[clean_df[\"Drug Regimen\"] == \"Capomulin\"]\n",
    "ram_reg = clean_df[clean_df[\"Drug Regimen\"] == \"Ramicane\"]\n",
    "inf_reg = clean_df[clean_df[\"Drug Regimen\"] == \"Infubinol\"]\n",
    "ceft_reg= clean_df[clean_df[\"Drug Regimen\"] == \"Ceftamin\"]\n",
    "\n",
    "# Start by getting the last (greatest) timepoint for each mouse\n",
    "\n",
    "cap_df = cap_reg.groupby(\"Mouse ID\").max()[\"Timepoint\"]\n",
    "ram_df = ram_reg.groupby(\"Mouse ID\").max()[\"Timepoint\"]\n",
    "inf_df = inf_reg.groupby(\"Mouse ID\").max()[\"Timepoint\"]\n",
    "ceft_df = ceft_reg.groupby(\"Mouse ID\").max()[\"Timepoint\"]\n",
    "\n",
    "# Merge this group df with the original dataframe to get the tumor volume at the last timepoint\n",
    "cap_final =pd.merge(cap_df, clean_df, on=(\"Mouse ID\", \"Timepoint\"))\n",
    "ram_final =pd.merge(ram_df, clean_df, on=(\"Mouse ID\", \"Timepoint\"))\n",
    "inf_final =pd.merge(inf_df, clean_df, on=(\"Mouse ID\", \"Timepoint\"))\n",
    "ceft_final =pd.merge(ceft_df, clean_df, on=(\"Mouse ID\", \"Timepoint\"))\n",
    "cap_final.head()\n"
   ]
  },
  {
   "cell_type": "code",
   "execution_count": 84,
   "metadata": {},
   "outputs": [
    {
     "name": "stdout",
     "output_type": "stream",
     "text": [
      "The lower quartile of Capomulin Drug Regimen's Tumor Volume is: 32.37735684\n",
      "The upper quartile of Capomulin Drug Regimen's Tumor Volume is: 40.1592203\n",
      "The interquartile range of Capomulin Drug Regimen's Tumor Volume is: 7.781863460000004\n",
      "The the median of Capomulin Drug Regimen's Tumor Volume is: 38.125164399999996 \n",
      "Values below 20.70456164999999 could be outliers.\n",
      "Values above 51.83201549 could be outliers.\n"
     ]
    }
   ],
   "source": [
    "# Put treatments into a list for for loop (and later for plot labels)\n",
    "good_treat = [\"Capomulin\", \"Ramicane\", \"Infubinol\", \"Ceftamin\"]\n",
    "\n",
    "# Create empty list to fill with tumor vol data (for plotting)\n",
    "tumor_vol =[]\n",
    "\n",
    "# Calculate the IQR and quantitatively determine if there are any potential outliers. \n",
    "#Capomulin\n",
    "quartiles_cap= cap_final[\"Tumor Volume (mm3)\"].quantile([.25, .5, .75])\n",
    "lowerq_cap= quartiles_cap[.25]\n",
    "upperq_cap= quartiles_cap[.75]\n",
    "iqr_cap = upperq_cap-lowerq_cap\n",
    "\n",
    "print(f\"The lower quartile of Capomulin Drug Regimen's Tumor Volume is: {lowerq_cap}\")\n",
    "print(f\"The upper quartile of Capomulin Drug Regimen's Tumor Volume is: {upperq_cap}\")\n",
    "print(f\"The interquartile range of Capomulin Drug Regimen's Tumor Volume is: {iqr_cap}\")\n",
    "print(f\"The the median of Capomulin Drug Regimen's Tumor Volume is: {quartiles_cap[0.5]} \")\n",
    "lower_bound_cap = lowerq_cap - (1.5*iqr_cap)\n",
    "upper_bound_cap = upperq_cap + (1.5*iqr_cap)\n",
    "print(f\"Values below {lower_bound_cap} could be outliers.\")\n",
    "print(f\"Values above {upper_bound_cap} could be outliers.\")\n",
    "\n"
   ]
  },
  {
   "cell_type": "code",
   "execution_count": 85,
   "metadata": {},
   "outputs": [
    {
     "name": "stdout",
     "output_type": "stream",
     "text": [
      "The lower quartile of Ramicane Drug Regimen's Tumor Volume is: 31.56046955\n",
      "The upper quartile of Ramicane Drug Regimen's Tumor Volume is: 40.65900627\n",
      "The interquartile range of Ramicane Drug Regimen's Tumor Volume is: 9.098536719999998\n",
      "The the median of Ramicane Drug Regimen's Tumor Volume is: 36.56165229 \n",
      "Values below 17.912664470000003 could be outliers.\n",
      "Values above 54.30681135 could be outliers.\n"
     ]
    }
   ],
   "source": [
    "#Ramicane\n",
    "quartiles_ram= ram_final[\"Tumor Volume (mm3)\"].quantile([.25, .5, .75])\n",
    "lowerq_ram= quartiles_ram[.25]\n",
    "upperq_ram= quartiles_ram[.75]\n",
    "iqr_ram = upperq_ram-lowerq_ram\n",
    "\n",
    "print(f\"The lower quartile of Ramicane Drug Regimen's Tumor Volume is: {lowerq_ram}\")\n",
    "print(f\"The upper quartile of Ramicane Drug Regimen's Tumor Volume is: {upperq_ram}\")\n",
    "print(f\"The interquartile range of Ramicane Drug Regimen's Tumor Volume is: {iqr_ram}\")\n",
    "print(f\"The the median of Ramicane Drug Regimen's Tumor Volume is: {quartiles_ram[0.5]} \")\n",
    "lower_bound_ram = lowerq_ram - (1.5*iqr_ram)\n",
    "upper_bound_ram = upperq_ram + (1.5*iqr_ram)\n",
    "print(f\"Values below {lower_bound_ram} could be outliers.\")\n",
    "print(f\"Values above {upper_bound_ram} could be outliers.\")"
   ]
  },
  {
   "cell_type": "code",
   "execution_count": 86,
   "metadata": {},
   "outputs": [
    {
     "name": "stdout",
     "output_type": "stream",
     "text": [
      "The lower quartile of Infubinol Drug Regimen's Tumor Volume is: 54.04860769\n",
      "The upper quartile of Infubinol Drug Regimen's Tumor Volume is: 65.52574285\n",
      "The interquartile range of Infubinol Drug Regimen's Tumor Volume is: 11.477135160000003\n",
      "The the median of Infubinol Drug Regimen's Tumor Volume is: 60.16518046 \n",
      "Values below 36.83290494999999 could be outliers.\n",
      "Values above 82.74144559000001 could be outliers.\n"
     ]
    }
   ],
   "source": [
    "#Infubinol\n",
    "quartiles_inf= inf_final[\"Tumor Volume (mm3)\"].quantile([.25, .5, .75])\n",
    "lowerq_inf= quartiles_inf[.25]\n",
    "upperq_inf= quartiles_inf[.75]\n",
    "iqr_inf = upperq_inf-lowerq_inf\n",
    "\n",
    "print(f\"The lower quartile of Infubinol Drug Regimen's Tumor Volume is: {lowerq_inf}\")\n",
    "print(f\"The upper quartile of Infubinol Drug Regimen's Tumor Volume is: {upperq_inf}\")\n",
    "print(f\"The interquartile range of Infubinol Drug Regimen's Tumor Volume is: {iqr_inf}\")\n",
    "print(f\"The the median of Infubinol Drug Regimen's Tumor Volume is: {quartiles_inf[0.5]} \")\n",
    "lower_bound_inf = lowerq_inf - (1.5*iqr_inf)\n",
    "upper_bound_inf = upperq_inf + (1.5*iqr_inf)\n",
    "print(f\"Values below {lower_bound_inf} could be outliers.\")\n",
    "print(f\"Values above {upper_bound_inf} could be outliers.\")"
   ]
  },
  {
   "cell_type": "code",
   "execution_count": 88,
   "metadata": {},
   "outputs": [
    {
     "name": "stdout",
     "output_type": "stream",
     "text": [
      "The lower quartile of Ceftamin Drug Regimen's Tumor Volume is: 48.72207785\n",
      "The upper quartile of Ceftamin Drug Regimen's Tumor Volume is: 64.29983003\n",
      "The interquartile range of Ceftamin Drug Regimen's Tumor Volume is: 15.577752179999997\n",
      "The the median of Ceftamin Drug Regimen's Tumor Volume is: 59.85195552 \n",
      "Values below 9.010728570000001 could be outliers.\n",
      "Values above 63.525848569999994 could be outliers.\n"
     ]
    }
   ],
   "source": [
    "#Ceftamin\n",
    "quartiles_ceft= ceft_final[\"Tumor Volume (mm3)\"].quantile([.25, .5, .75])\n",
    "lowerq_ceft= quartiles_ceft[.25]\n",
    "upperq_ceft= quartiles_ceft[.75]\n",
    "iqr_ceft = upperq_ceft-lowerq_ceft\n",
    "\n",
    "print(f\"The lower quartile of Ceftamin Drug Regimen's Tumor Volume is: {lowerq_ceft}\")\n",
    "print(f\"The upper quartile of Ceftamin Drug Regimen's Tumor Volume is: {upperq_ceft}\")\n",
    "print(f\"The interquartile range of Ceftamin Drug Regimen's Tumor Volume is: {iqr_ceft}\")\n",
    "print(f\"The the median of Ceftamin Drug Regimen's Tumor Volume is: {quartiles_ceft[0.5]} \")\n",
    "lower_bound_ceft = lowerq_cap - (1.5*iqr_ceft)\n",
    "upper_bound_ceft = upperq_cap + (1.5*iqr_ceft)\n",
    "print(f\"Values below {lower_bound_ceft} could be outliers.\")\n",
    "print(f\"Values above {upper_bound_ceft} could be outliers.\")"
   ]
  },
  {
   "cell_type": "code",
   "execution_count": null,
   "metadata": {},
   "outputs": [],
   "source": [
    "#Since I realized that I got every regimen information individually instead of using a loop and due to the lack\n",
    "# of time to correct the code I didn't do a Loop, Sorry, I understand if points are deducted ):\n",
    "    "
   ]
  },
  {
   "cell_type": "code",
   "execution_count": 91,
   "metadata": {},
   "outputs": [
    {
     "data": {
      "image/png": "[encoded data removed]",
      "text/plain": [
       "<Figure size 432x288 with 1 Axes>"
      ]
     },
     "metadata": {
      "needs_background": "light"
     },
     "output_type": "display_data"
    }
   ],
   "source": [
    "# Generate a box plot of the final tumor volume of each mouse across four regimens of interest\n",
    "tumor_vol= [cap_final[\"Tumor Volume (mm3)\"], inf_final[\"Tumor Volume (mm3)\"], ram_final[\"Tumor Volume (mm3)\"], ceft_final[\"Tumor Volume (mm3)\"]]\n",
    "\n",
    "fig1, ax1 = plt.subplots()\n",
    "ax1.set_title('Drug regimen Analysis')\n",
    "ax1.boxplot(tumor_vol)\n",
    "plt.show()"
   ]
  },
  {
   "cell_type": "markdown",
   "metadata": {},
   "source": [
    "## Line and Scatter Plots"
   ]
  },
  {
   "cell_type": "code",
   "execution_count": 9,
   "metadata": {},
   "outputs": [
    {
     "data": {
      "text/html": [
       "<div>\n",
       "<style scoped>\n",
       "    .dataframe tbody tr th:only-of-type {\n",
       "        vertical-align: middle;\n",
       "    }\n",
       "\n",
       "    .dataframe tbody tr th {\n",
       "        vertical-align: top;\n",
       "    }\n",
       "\n",
       "    .dataframe thead th {\n",
       "        text-align: right;\n",
       "    }\n",
       "</style>\n",
       "<table border=\"1\" class=\"dataframe\">\n",
       "  <thead>\n",
       "    <tr style=\"text-align: right;\">\n",
       "      <th></th>\n",
       "      <th>Mouse ID</th>\n",
       "      <th>Timepoint</th>\n",
       "      <th>Tumor Volume (mm3)</th>\n",
       "    </tr>\n",
       "  </thead>\n",
       "  <tbody>\n",
       "    <tr>\n",
       "      <th>20</th>\n",
       "      <td>x401</td>\n",
       "      <td>0</td>\n",
       "      <td>45.000000</td>\n",
       "    </tr>\n",
       "    <tr>\n",
       "      <th>21</th>\n",
       "      <td>x401</td>\n",
       "      <td>5</td>\n",
       "      <td>45.473753</td>\n",
       "    </tr>\n",
       "    <tr>\n",
       "      <th>22</th>\n",
       "      <td>x401</td>\n",
       "      <td>10</td>\n",
       "      <td>39.113891</td>\n",
       "    </tr>\n",
       "    <tr>\n",
       "      <th>23</th>\n",
       "      <td>x401</td>\n",
       "      <td>15</td>\n",
       "      <td>39.776250</td>\n",
       "    </tr>\n",
       "    <tr>\n",
       "      <th>24</th>\n",
       "      <td>x401</td>\n",
       "      <td>20</td>\n",
       "      <td>36.065835</td>\n",
       "    </tr>\n",
       "    <tr>\n",
       "      <th>25</th>\n",
       "      <td>x401</td>\n",
       "      <td>25</td>\n",
       "      <td>36.617120</td>\n",
       "    </tr>\n",
       "    <tr>\n",
       "      <th>26</th>\n",
       "      <td>x401</td>\n",
       "      <td>30</td>\n",
       "      <td>32.915292</td>\n",
       "    </tr>\n",
       "    <tr>\n",
       "      <th>27</th>\n",
       "      <td>x401</td>\n",
       "      <td>35</td>\n",
       "      <td>30.206825</td>\n",
       "    </tr>\n",
       "    <tr>\n",
       "      <th>28</th>\n",
       "      <td>x401</td>\n",
       "      <td>40</td>\n",
       "      <td>28.167397</td>\n",
       "    </tr>\n",
       "    <tr>\n",
       "      <th>29</th>\n",
       "      <td>x401</td>\n",
       "      <td>45</td>\n",
       "      <td>28.484033</td>\n",
       "    </tr>\n",
       "  </tbody>\n",
       "</table>\n",
       "</div>"
      ],
      "text/plain": [
       "   Mouse ID  Timepoint  Tumor Volume (mm3)\n",
       "20     x401          0           45.000000\n",
       "21     x401          5           45.473753\n",
       "22     x401         10           39.113891\n",
       "23     x401         15           39.776250\n",
       "24     x401         20           36.065835\n",
       "25     x401         25           36.617120\n",
       "26     x401         30           32.915292\n",
       "27     x401         35           30.206825\n",
       "28     x401         40           28.167397\n",
       "29     x401         45           28.484033"
      ]
     },
     "execution_count": 9,
     "metadata": {},
     "output_type": "execute_result"
    }
   ],
   "source": [
    "# Generate a line plot of time point versus tumor volume for a mouse treated with Capomulin, mouse tested for Capomulin is x401\n",
    "mouse_x401 = clean_df[clean_df[\"Mouse ID\"].isin([\"x401\"])]\n",
    "line_x401 = mouse_x401[[\"Mouse ID\" , \"Timepoint\", \"Tumor Volume (mm3)\"]]\n",
    "line_x401\n",
    "#Mouse tested is x401"
   ]
  },
  {
   "cell_type": "code",
   "execution_count": 12,
   "metadata": {},
   "outputs": [
    {
     "data": {
      "text/plain": [
       "Text(0, 0.5, 'Timepoint')"
      ]
     },
     "execution_count": 12,
     "metadata": {},
     "output_type": "execute_result"
    },
    {
     "data": {
      "image/png": "[encoded data removed]",
      "text/plain": [
       "<Figure size 432x288 with 1 Axes>"
      ]
     },
     "metadata": {
      "needs_background": "light"
     },
     "output_type": "display_data"
    }
   ],
   "source": [
    "plt.plot(line_x401[\"Tumor Volume (mm3)\"], line_x401[\"Timepoint\"], marker=\"x\")\n",
    "plt.title(\"Capomulin\")\n",
    "plt.xlabel(\"Tumor volume\")\n",
    "plt.ylabel(\"Timepoint\")"
   ]
  },
  {
   "cell_type": "code",
   "execution_count": 15,
   "metadata": {},
   "outputs": [
    {
     "data": {
      "text/plain": [
       "Text(0, 0.5, 'Timepoint')"
      ]
     },
     "execution_count": 15,
     "metadata": {},
     "output_type": "execute_result"
    },
    {
     "data": {
      "image/png": "[encoded data removed]",
      "text/plain": [
       "<Figure size 432x288 with 1 Axes>"
      ]
     },
     "metadata": {
      "needs_background": "light"
     },
     "output_type": "display_data"
    }
   ],
   "source": [
    "# Generate a scatter plot of mouse weight versus average tumor volume for the Capomulin regimen\n",
    "plt.scatter(line_x401[\"Tumor Volume (mm3)\"], line_x401[\"Timepoint\"], marker=\"o\", facecolors=\"red\", edgecolors=\"black\")\n",
    "plt.title(\"Capomulin\")\n",
    "plt.xlabel(\"Tumor volume\")\n",
    "plt.ylabel(\"Timepoint\")"
   ]
  },
  {
   "cell_type": "markdown",
   "metadata": {},
   "source": [
    "## Correlation and Regression"
   ]
  },
  {
   "cell_type": "code",
   "execution_count": 18,
   "metadata": {},
   "outputs": [],
   "source": [
    "# Calculate the correlation coefficient and linear regression model \n",
    "# for mouse weight and average tumor volume for the Capomulin regimen\n"
   ]
  },
  {
   "cell_type": "code",
   "execution_count": null,
   "metadata": {},
   "outputs": [],
   "source": []
  }
 ],
 "metadata": {
  "anaconda-cloud": {},
  "kernelspec": {
   "display_name": "Python 3",
   "language": "python",
   "name": "python3"
  },
  "language_info": {
   "codemirror_mode": {
    "name": "ipython",
    "version": 3
   },
   "file_extension": ".py",
   "mimetype": "text/x-python",
   "name": "python",
   "nbconvert_exporter": "python",
   "pygments_lexer": "ipython3",
   "version": "3.7.6"
  }
 },
 "nbformat": 4,
 "nbformat_minor": 2
}
